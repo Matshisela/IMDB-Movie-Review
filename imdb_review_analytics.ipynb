{
  "cells": [
    {
      "cell_type": "markdown",
      "metadata": {
        "id": "4gR4XpvpDSVJ"
      },
      "source": [
        "# Background"
      ]
    },
    {
      "cell_type": "markdown",
      "metadata": {
        "id": "WmTFUQpOC8xU"
      },
      "source": [
        "The following analysis seeks predict Telkom reviews using Natural Language Processing techniques. This analysis is the first part of 2, which will try to predict the telkom reviews using the naive bayes, logistic regression and the SGD Classifier. Part 2 will be the use of the neural networks"
      ]
    },
    {
      "cell_type": "code",
      "execution_count": 4,
      "metadata": {
        "colab": {
          "base_uri": "https://localhost:8080/"
        },
        "id": "Rf1dQ5HIi4vK",
        "outputId": "64a47ce1-b422-4e26-c57a-aa1715392082"
      },
      "outputs": [
        {
          "output_type": "stream",
          "name": "stdout",
          "text": [
            "Mounted at /content/drive\n"
          ]
        }
      ],
      "source": [
        "from google.colab import drive\n",
        "drive.mount('/content/drive')"
      ]
    },
    {
      "cell_type": "code",
      "execution_count": 5,
      "metadata": {
        "id": "ZkqRo7spDRg-"
      },
      "outputs": [],
      "source": [
        "#Packages\n",
        "import pandas as pd\n",
        "import plotly.express as px\n",
        "import numpy as np"
      ]
    },
    {
      "cell_type": "code",
      "execution_count": 6,
      "metadata": {
        "colab": {
          "base_uri": "https://localhost:8080/",
          "height": 206
        },
        "id": "yV72oCXUDh4H",
        "outputId": "75bfb582-c6c5-4e70-bc53-0bab46e0faab"
      },
      "outputs": [
        {
          "output_type": "execute_result",
          "data": {
            "text/plain": [
              "                                              review sentiment\n",
              "0  One of the other reviewers has mentioned that ...  positive\n",
              "1  A wonderful little production. <br /><br />The...  positive\n",
              "2  I thought this was a wonderful way to spend ti...  positive\n",
              "3  Basically there's a family where a little boy ...  negative\n",
              "4  Petter Mattei's \"Love in the Time of Money\" is...  positive"
            ],
            "text/html": [
              "\n",
              "  <div id=\"df-bad15329-742e-4c15-8a75-8a7b02ea0195\">\n",
              "    <div class=\"colab-df-container\">\n",
              "      <div>\n",
              "<style scoped>\n",
              "    .dataframe tbody tr th:only-of-type {\n",
              "        vertical-align: middle;\n",
              "    }\n",
              "\n",
              "    .dataframe tbody tr th {\n",
              "        vertical-align: top;\n",
              "    }\n",
              "\n",
              "    .dataframe thead th {\n",
              "        text-align: right;\n",
              "    }\n",
              "</style>\n",
              "<table border=\"1\" class=\"dataframe\">\n",
              "  <thead>\n",
              "    <tr style=\"text-align: right;\">\n",
              "      <th></th>\n",
              "      <th>review</th>\n",
              "      <th>sentiment</th>\n",
              "    </tr>\n",
              "  </thead>\n",
              "  <tbody>\n",
              "    <tr>\n",
              "      <th>0</th>\n",
              "      <td>One of the other reviewers has mentioned that ...</td>\n",
              "      <td>positive</td>\n",
              "    </tr>\n",
              "    <tr>\n",
              "      <th>1</th>\n",
              "      <td>A wonderful little production. &lt;br /&gt;&lt;br /&gt;The...</td>\n",
              "      <td>positive</td>\n",
              "    </tr>\n",
              "    <tr>\n",
              "      <th>2</th>\n",
              "      <td>I thought this was a wonderful way to spend ti...</td>\n",
              "      <td>positive</td>\n",
              "    </tr>\n",
              "    <tr>\n",
              "      <th>3</th>\n",
              "      <td>Basically there's a family where a little boy ...</td>\n",
              "      <td>negative</td>\n",
              "    </tr>\n",
              "    <tr>\n",
              "      <th>4</th>\n",
              "      <td>Petter Mattei's \"Love in the Time of Money\" is...</td>\n",
              "      <td>positive</td>\n",
              "    </tr>\n",
              "  </tbody>\n",
              "</table>\n",
              "</div>\n",
              "      <button class=\"colab-df-convert\" onclick=\"convertToInteractive('df-bad15329-742e-4c15-8a75-8a7b02ea0195')\"\n",
              "              title=\"Convert this dataframe to an interactive table.\"\n",
              "              style=\"display:none;\">\n",
              "        \n",
              "  <svg xmlns=\"http://www.w3.org/2000/svg\" height=\"24px\"viewBox=\"0 0 24 24\"\n",
              "       width=\"24px\">\n",
              "    <path d=\"M0 0h24v24H0V0z\" fill=\"none\"/>\n",
              "    <path d=\"M18.56 5.44l.94 2.06.94-2.06 2.06-.94-2.06-.94-.94-2.06-.94 2.06-2.06.94zm-11 1L8.5 8.5l.94-2.06 2.06-.94-2.06-.94L8.5 2.5l-.94 2.06-2.06.94zm10 10l.94 2.06.94-2.06 2.06-.94-2.06-.94-.94-2.06-.94 2.06-2.06.94z\"/><path d=\"M17.41 7.96l-1.37-1.37c-.4-.4-.92-.59-1.43-.59-.52 0-1.04.2-1.43.59L10.3 9.45l-7.72 7.72c-.78.78-.78 2.05 0 2.83L4 21.41c.39.39.9.59 1.41.59.51 0 1.02-.2 1.41-.59l7.78-7.78 2.81-2.81c.8-.78.8-2.07 0-2.86zM5.41 20L4 18.59l7.72-7.72 1.47 1.35L5.41 20z\"/>\n",
              "  </svg>\n",
              "      </button>\n",
              "      \n",
              "  <style>\n",
              "    .colab-df-container {\n",
              "      display:flex;\n",
              "      flex-wrap:wrap;\n",
              "      gap: 12px;\n",
              "    }\n",
              "\n",
              "    .colab-df-convert {\n",
              "      background-color: #E8F0FE;\n",
              "      border: none;\n",
              "      border-radius: 50%;\n",
              "      cursor: pointer;\n",
              "      display: none;\n",
              "      fill: #1967D2;\n",
              "      height: 32px;\n",
              "      padding: 0 0 0 0;\n",
              "      width: 32px;\n",
              "    }\n",
              "\n",
              "    .colab-df-convert:hover {\n",
              "      background-color: #E2EBFA;\n",
              "      box-shadow: 0px 1px 2px rgba(60, 64, 67, 0.3), 0px 1px 3px 1px rgba(60, 64, 67, 0.15);\n",
              "      fill: #174EA6;\n",
              "    }\n",
              "\n",
              "    [theme=dark] .colab-df-convert {\n",
              "      background-color: #3B4455;\n",
              "      fill: #D2E3FC;\n",
              "    }\n",
              "\n",
              "    [theme=dark] .colab-df-convert:hover {\n",
              "      background-color: #434B5C;\n",
              "      box-shadow: 0px 1px 3px 1px rgba(0, 0, 0, 0.15);\n",
              "      filter: drop-shadow(0px 1px 2px rgba(0, 0, 0, 0.3));\n",
              "      fill: #FFFFFF;\n",
              "    }\n",
              "  </style>\n",
              "\n",
              "      <script>\n",
              "        const buttonEl =\n",
              "          document.querySelector('#df-bad15329-742e-4c15-8a75-8a7b02ea0195 button.colab-df-convert');\n",
              "        buttonEl.style.display =\n",
              "          google.colab.kernel.accessAllowed ? 'block' : 'none';\n",
              "\n",
              "        async function convertToInteractive(key) {\n",
              "          const element = document.querySelector('#df-bad15329-742e-4c15-8a75-8a7b02ea0195');\n",
              "          const dataTable =\n",
              "            await google.colab.kernel.invokeFunction('convertToInteractive',\n",
              "                                                     [key], {});\n",
              "          if (!dataTable) return;\n",
              "\n",
              "          const docLinkHtml = 'Like what you see? Visit the ' +\n",
              "            '<a target=\"_blank\" href=https://colab.research.google.com/notebooks/data_table.ipynb>data table notebook</a>'\n",
              "            + ' to learn more about interactive tables.';\n",
              "          element.innerHTML = '';\n",
              "          dataTable['output_type'] = 'display_data';\n",
              "          await google.colab.output.renderOutput(dataTable, element);\n",
              "          const docLink = document.createElement('div');\n",
              "          docLink.innerHTML = docLinkHtml;\n",
              "          element.appendChild(docLink);\n",
              "        }\n",
              "      </script>\n",
              "    </div>\n",
              "  </div>\n",
              "  "
            ]
          },
          "metadata": {},
          "execution_count": 6
        }
      ],
      "source": [
        "# Reading in the data\n",
        "reviews_df = pd.read_csv('/content/drive/MyDrive/imdb_sentiment_analysis/data/IMDB Dataset.csv')\n",
        "reviews_df.head()"
      ]
    },
    {
      "cell_type": "code",
      "execution_count": 7,
      "metadata": {
        "colab": {
          "base_uri": "https://localhost:8080/"
        },
        "id": "FklUZHYpFLCP",
        "outputId": "f06f99ad-b17a-4e56-df4b-111ab213affc"
      },
      "outputs": [
        {
          "output_type": "execute_result",
          "data": {
            "text/plain": [
              "(50000, 2)"
            ]
          },
          "metadata": {},
          "execution_count": 7
        }
      ],
      "source": [
        "# Size of data\n",
        "reviews_df.shape"
      ]
    },
    {
      "cell_type": "code",
      "execution_count": 8,
      "metadata": {
        "colab": {
          "base_uri": "https://localhost:8080/"
        },
        "id": "KmbHH-ZLFNx4",
        "outputId": "dad26390-f032-4a33-f18a-1bbb89ee0767"
      },
      "outputs": [
        {
          "output_type": "stream",
          "name": "stdout",
          "text": [
            "<class 'pandas.core.frame.DataFrame'>\n",
            "RangeIndex: 50000 entries, 0 to 49999\n",
            "Data columns (total 2 columns):\n",
            " #   Column     Non-Null Count  Dtype \n",
            "---  ------     --------------  ----- \n",
            " 0   review     50000 non-null  object\n",
            " 1   sentiment  50000 non-null  object\n",
            "dtypes: object(2)\n",
            "memory usage: 781.4+ KB\n"
          ]
        }
      ],
      "source": [
        "# Variable information \n",
        "reviews_df.info()"
      ]
    },
    {
      "cell_type": "markdown",
      "metadata": {
        "id": "VA54-kAzy3v3"
      },
      "source": [
        "Fortunately our target class is numeric"
      ]
    },
    {
      "cell_type": "code",
      "execution_count": 9,
      "metadata": {
        "colab": {
          "base_uri": "https://localhost:8080/"
        },
        "id": "SYGARhTQFQru",
        "outputId": "c430e145-b05b-4dbf-f3f2-16a5a6d8c062"
      },
      "outputs": [
        {
          "output_type": "execute_result",
          "data": {
            "text/plain": [
              "review       0.0\n",
              "sentiment    0.0\n",
              "dtype: float64"
            ]
          },
          "metadata": {},
          "execution_count": 9
        }
      ],
      "source": [
        "# Missing values scale\n",
        "reviews_df.isnull().sum()/ len(reviews_df)"
      ]
    },
    {
      "cell_type": "markdown",
      "metadata": {
        "id": "I15Oqn2uy586"
      },
      "source": [
        "Also fortunately the missing data is only 0.2% in the headline variable"
      ]
    },
    {
      "cell_type": "code",
      "execution_count": 10,
      "metadata": {
        "colab": {
          "base_uri": "https://localhost:8080/",
          "height": 329
        },
        "id": "94lRx4b3FTLW",
        "outputId": "5cc47290-7f5c-4cb9-bcea-b6e461eb0729"
      },
      "outputs": [
        {
          "output_type": "display_data",
          "data": {
            "text/plain": [
              "<Figure size 432x288 with 1 Axes>"
            ],
            "image/png": "[encoded data removed]"
          },
          "metadata": {
            "needs_background": "light"
          }
        }
      ],
      "source": [
        "# Overall Rating class \n",
        "reviews_df[\"sentiment\"].value_counts(normalize=True).plot(\n",
        "    kind= 'bar',\n",
        "    xlabel = \"Ratings\",\n",
        "    ylabel = \"Frequency\",\n",
        "    title= \"Overall Rating Frequencies\"\n",
        ");"
      ]
    },
    {
      "cell_type": "markdown",
      "metadata": {
        "id": "Tzs_7_MEyb3h"
      },
      "source": [
        "There are 2 classes that emanate, that are, the positive class (3, 4, 5) and the negative class (1, 2). We can use this binary class in our modelling"
      ]
    },
    {
      "cell_type": "markdown",
      "metadata": {
        "id": "qavrTUGcFatJ"
      },
      "source": [
        "## Feature Engineering"
      ]
    },
    {
      "cell_type": "code",
      "execution_count": 11,
      "metadata": {
        "id": "9GF0VsJnFVRj"
      },
      "outputs": [],
      "source": [
        "# Define a function to engineer the variables\n",
        "def wrangle(df):\n",
        "\n",
        "    # New rating variable\n",
        "    df[\"rating\"] = np.where(df[\"sentiment\"] == \"positive\", 1, 0)\n",
        "\n",
        "    # Drop the old rating\n",
        "    df = df.drop(columns = [\"sentiment\"])\n",
        "\n",
        "    # Get the final data\n",
        "    return df"
      ]
    },
    {
      "cell_type": "code",
      "execution_count": 12,
      "metadata": {
        "colab": {
          "base_uri": "https://localhost:8080/",
          "height": 206
        },
        "id": "-yVY272iFeXB",
        "outputId": "a5ced6a0-ff93-4db7-edbf-631a91c6ef71"
      },
      "outputs": [
        {
          "output_type": "execute_result",
          "data": {
            "text/plain": [
              "                                              review  rating\n",
              "0  One of the other reviewers has mentioned that ...       1\n",
              "1  A wonderful little production. <br /><br />The...       1\n",
              "2  I thought this was a wonderful way to spend ti...       1\n",
              "3  Basically there's a family where a little boy ...       0\n",
              "4  Petter Mattei's \"Love in the Time of Money\" is...       1"
            ],
            "text/html": [
              "\n",
              "  <div id=\"df-19433f42-b96d-46a3-9433-6b1f4012aace\">\n",
              "    <div class=\"colab-df-container\">\n",
              "      <div>\n",
              "<style scoped>\n",
              "    .dataframe tbody tr th:only-of-type {\n",
              "        vertical-align: middle;\n",
              "    }\n",
              "\n",
              "    .dataframe tbody tr th {\n",
              "        vertical-align: top;\n",
              "    }\n",
              "\n",
              "    .dataframe thead th {\n",
              "        text-align: right;\n",
              "    }\n",
              "</style>\n",
              "<table border=\"1\" class=\"dataframe\">\n",
              "  <thead>\n",
              "    <tr style=\"text-align: right;\">\n",
              "      <th></th>\n",
              "      <th>review</th>\n",
              "      <th>rating</th>\n",
              "    </tr>\n",
              "  </thead>\n",
              "  <tbody>\n",
              "    <tr>\n",
              "      <th>0</th>\n",
              "      <td>One of the other reviewers has mentioned that ...</td>\n",
              "      <td>1</td>\n",
              "    </tr>\n",
              "    <tr>\n",
              "      <th>1</th>\n",
              "      <td>A wonderful little production. &lt;br /&gt;&lt;br /&gt;The...</td>\n",
              "      <td>1</td>\n",
              "    </tr>\n",
              "    <tr>\n",
              "      <th>2</th>\n",
              "      <td>I thought this was a wonderful way to spend ti...</td>\n",
              "      <td>1</td>\n",
              "    </tr>\n",
              "    <tr>\n",
              "      <th>3</th>\n",
              "      <td>Basically there's a family where a little boy ...</td>\n",
              "      <td>0</td>\n",
              "    </tr>\n",
              "    <tr>\n",
              "      <th>4</th>\n",
              "      <td>Petter Mattei's \"Love in the Time of Money\" is...</td>\n",
              "      <td>1</td>\n",
              "    </tr>\n",
              "  </tbody>\n",
              "</table>\n",
              "</div>\n",
              "      <button class=\"colab-df-convert\" onclick=\"convertToInteractive('df-19433f42-b96d-46a3-9433-6b1f4012aace')\"\n",
              "              title=\"Convert this dataframe to an interactive table.\"\n",
              "              style=\"display:none;\">\n",
              "        \n",
              "  <svg xmlns=\"http://www.w3.org/2000/svg\" height=\"24px\"viewBox=\"0 0 24 24\"\n",
              "       width=\"24px\">\n",
              "    <path d=\"M0 0h24v24H0V0z\" fill=\"none\"/>\n",
              "    <path d=\"M18.56 5.44l.94 2.06.94-2.06 2.06-.94-2.06-.94-.94-2.06-.94 2.06-2.06.94zm-11 1L8.5 8.5l.94-2.06 2.06-.94-2.06-.94L8.5 2.5l-.94 2.06-2.06.94zm10 10l.94 2.06.94-2.06 2.06-.94-2.06-.94-.94-2.06-.94 2.06-2.06.94z\"/><path d=\"M17.41 7.96l-1.37-1.37c-.4-.4-.92-.59-1.43-.59-.52 0-1.04.2-1.43.59L10.3 9.45l-7.72 7.72c-.78.78-.78 2.05 0 2.83L4 21.41c.39.39.9.59 1.41.59.51 0 1.02-.2 1.41-.59l7.78-7.78 2.81-2.81c.8-.78.8-2.07 0-2.86zM5.41 20L4 18.59l7.72-7.72 1.47 1.35L5.41 20z\"/>\n",
              "  </svg>\n",
              "      </button>\n",
              "      \n",
              "  <style>\n",
              "    .colab-df-container {\n",
              "      display:flex;\n",
              "      flex-wrap:wrap;\n",
              "      gap: 12px;\n",
              "    }\n",
              "\n",
              "    .colab-df-convert {\n",
              "      background-color: #E8F0FE;\n",
              "      border: none;\n",
              "      border-radius: 50%;\n",
              "      cursor: pointer;\n",
              "      display: none;\n",
              "      fill: #1967D2;\n",
              "      height: 32px;\n",
              "      padding: 0 0 0 0;\n",
              "      width: 32px;\n",
              "    }\n",
              "\n",
              "    .colab-df-convert:hover {\n",
              "      background-color: #E2EBFA;\n",
              "      box-shadow: 0px 1px 2px rgba(60, 64, 67, 0.3), 0px 1px 3px 1px rgba(60, 64, 67, 0.15);\n",
              "      fill: #174EA6;\n",
              "    }\n",
              "\n",
              "    [theme=dark] .colab-df-convert {\n",
              "      background-color: #3B4455;\n",
              "      fill: #D2E3FC;\n",
              "    }\n",
              "\n",
              "    [theme=dark] .colab-df-convert:hover {\n",
              "      background-color: #434B5C;\n",
              "      box-shadow: 0px 1px 3px 1px rgba(0, 0, 0, 0.15);\n",
              "      filter: drop-shadow(0px 1px 2px rgba(0, 0, 0, 0.3));\n",
              "      fill: #FFFFFF;\n",
              "    }\n",
              "  </style>\n",
              "\n",
              "      <script>\n",
              "        const buttonEl =\n",
              "          document.querySelector('#df-19433f42-b96d-46a3-9433-6b1f4012aace button.colab-df-convert');\n",
              "        buttonEl.style.display =\n",
              "          google.colab.kernel.accessAllowed ? 'block' : 'none';\n",
              "\n",
              "        async function convertToInteractive(key) {\n",
              "          const element = document.querySelector('#df-19433f42-b96d-46a3-9433-6b1f4012aace');\n",
              "          const dataTable =\n",
              "            await google.colab.kernel.invokeFunction('convertToInteractive',\n",
              "                                                     [key], {});\n",
              "          if (!dataTable) return;\n",
              "\n",
              "          const docLinkHtml = 'Like what you see? Visit the ' +\n",
              "            '<a target=\"_blank\" href=https://colab.research.google.com/notebooks/data_table.ipynb>data table notebook</a>'\n",
              "            + ' to learn more about interactive tables.';\n",
              "          element.innerHTML = '';\n",
              "          dataTable['output_type'] = 'display_data';\n",
              "          await google.colab.output.renderOutput(dataTable, element);\n",
              "          const docLink = document.createElement('div');\n",
              "          docLink.innerHTML = docLinkHtml;\n",
              "          element.appendChild(docLink);\n",
              "        }\n",
              "      </script>\n",
              "    </div>\n",
              "  </div>\n",
              "  "
            ]
          },
          "metadata": {},
          "execution_count": 12
        }
      ],
      "source": [
        "# Get the new features\n",
        "final_df = wrangle(reviews_df)\n",
        "final_df.head()"
      ]
    },
    {
      "cell_type": "markdown",
      "metadata": {
        "id": "3odyfwQwFu6m"
      },
      "source": [
        "# Modelling\n",
        "\n",
        "The following are the packages that were used"
      ]
    },
    {
      "cell_type": "code",
      "execution_count": 13,
      "metadata": {
        "id": "VAe3WFtoFrBe"
      },
      "outputs": [],
      "source": [
        "# Packages\n",
        "from sklearn.feature_extraction.text import CountVectorizer, TfidfTransformer\n",
        "from sklearn.linear_model import LogisticRegression\n",
        "from sklearn.naive_bayes import MultinomialNB\n",
        "from sklearn.model_selection import GridSearchCV\n",
        "from sklearn.model_selection import train_test_split\n",
        "from sklearn.pipeline import Pipeline\n",
        "from sklearn.linear_model import SGDClassifier\n",
        "from time import time\n",
        "import logging\n",
        "\n"
      ]
    },
    {
      "cell_type": "code",
      "execution_count": 14,
      "metadata": {
        "id": "TE3ceGFMF2w-"
      },
      "outputs": [],
      "source": [
        "# Splitting the data\n",
        "X = final_df.review \n",
        "y = final_df.rating\n",
        "\n",
        "X_train, X_test, y_train, y_test = train_test_split( \n",
        "    X, y, test_size= 0.25, random_state=42\n",
        ")\n"
      ]
    },
    {
      "cell_type": "code",
      "execution_count": 15,
      "metadata": {
        "colab": {
          "base_uri": "https://localhost:8080/"
        },
        "id": "wRkT9b5cF7l9",
        "outputId": "5a988180-885f-4496-ecb8-5f2aba78c2e0"
      },
      "outputs": [
        {
          "output_type": "stream",
          "name": "stdout",
          "text": [
            "The X train set size is:  (37500,)\n",
            "The X test set size is: (12500,)\n",
            "The y train set size is: (37500,)\n",
            "The y test set size is: (12500,)\n"
          ]
        }
      ],
      "source": [
        "# The size of the sets\n",
        "print(\"The X train set size is: \", X_train.shape)\n",
        "print('The X test set size is:', X_test.shape)\n",
        "print('The y train set size is:', y_train.shape)\n",
        "print('The y test set size is:', y_test.shape)"
      ]
    },
    {
      "cell_type": "code",
      "execution_count": 16,
      "metadata": {
        "colab": {
          "base_uri": "https://localhost:8080/"
        },
        "id": "ZsKJN_a5GAYN",
        "outputId": "abadaa7a-6512-4a23-b26f-68b415f7b3fe"
      },
      "outputs": [
        {
          "output_type": "execute_result",
          "data": {
            "text/plain": [
              "27434    I figure this to be an \"alternate reality\" tee...\n",
              "13400    This is the kind of movie that wants to be goo...\n",
              "883      This was by far the worst movie I've ever seen...\n",
              "7303     Awful, awful, awful...<br /><br />I loved the ...\n",
              "45124    Fragile Carne, just before his great period. A...\n",
              "Name: review, dtype: object"
            ]
          },
          "metadata": {},
          "execution_count": 16
        }
      ],
      "source": [
        "# The train set\n",
        "X_train.head()"
      ]
    },
    {
      "cell_type": "code",
      "execution_count": 17,
      "metadata": {
        "id": "3CitrDArGFL8"
      },
      "outputs": [],
      "source": [
        "# Removing stop words and 1-gram\n",
        "vectorizer = CountVectorizer(\n",
        "    strip_accents= \"ascii\",\n",
        "    stop_words= \"english\",\n",
        "    lowercase= False, \n",
        "    ngram_range=(1,1)\n",
        ")\n",
        "\n",
        "X_train_bow = vectorizer.fit_transform(X_train)\n",
        "X_test_bow = vectorizer.transform(X_test)\n",
        "\n"
      ]
    },
    {
      "cell_type": "markdown",
      "metadata": {
        "id": "DKH2L87_G3Q-"
      },
      "source": [
        "## Naive Bayes Model"
      ]
    },
    {
      "cell_type": "code",
      "execution_count": 18,
      "metadata": {
        "colab": {
          "base_uri": "https://localhost:8080/"
        },
        "id": "p2pDG0jiGSh4",
        "outputId": "81a56ad3-a7a5-468c-c10b-126acdbf7257"
      },
      "outputs": [
        {
          "output_type": "stream",
          "name": "stdout",
          "text": [
            "done in 0.048s\n",
            "The accuracy of the model is : 0.8576\n"
          ]
        }
      ],
      "source": [
        "# Multinomial Naive Bayes model\n",
        "clf_nb = MultinomialNB()\n",
        "start_time = time()\n",
        "clf_nb.fit(X_train_bow, y_train)\n",
        "print(\"done in %0.3fs\" % (time() - start_time))\n",
        "accuracy_nb = clf_nb.score(X_test_bow, y_test)\n",
        "print(\"The accuracy of the model is :\", accuracy_nb)"
      ]
    },
    {
      "cell_type": "markdown",
      "metadata": {
        "id": "WfL-kf-3HIel"
      },
      "source": [
        "## Logistic Regression"
      ]
    },
    {
      "cell_type": "code",
      "execution_count": 19,
      "metadata": {
        "colab": {
          "base_uri": "https://localhost:8080/"
        },
        "id": "h30a4wAyHGH3",
        "outputId": "a6036a1d-1114-4b14-da1c-9906d9215705"
      },
      "outputs": [
        {
          "output_type": "stream",
          "name": "stdout",
          "text": [
            "done in 43.804s\n",
            "The accuracy of the model is : 0.88448\n"
          ]
        }
      ],
      "source": [
        "# Logistic Regrission model\n",
        "clf_log = LogisticRegression(max_iter=1000)\n",
        "start_time = time()\n",
        "clf_log.fit(X_train_bow, y_train)\n",
        "print(\"done in %0.3fs\" % (time() - start_time))\n",
        "accuracy_log = clf_log.score(X_test_bow, y_test)\n",
        "print(\"The accuracy of the model is :\", accuracy_log)"
      ]
    },
    {
      "cell_type": "markdown",
      "metadata": {
        "id": "58Q6Ryp_HYJq"
      },
      "source": [
        "## SGD Classifier"
      ]
    },
    {
      "cell_type": "code",
      "execution_count": 20,
      "metadata": {
        "colab": {
          "base_uri": "https://localhost:8080/"
        },
        "id": "SMz8kpdtHeVk",
        "outputId": "50a2e081-d639-42df-fb61-102638231982"
      },
      "outputs": [
        {
          "output_type": "stream",
          "name": "stdout",
          "text": [
            "done in 1.255s\n",
            "The accuracy of the model is : 0.87608\n"
          ]
        }
      ],
      "source": [
        "# SGD Classifier model\n",
        "clf_sgd = SGDClassifier()\n",
        "start_time = time()\n",
        "clf_sgd.fit(X_train_bow, y_train)\n",
        "print(\"done in %0.3fs\" % (time() - start_time))\n",
        "accuracy_sgd = clf_sgd.score(X_test_bow, y_test)\n",
        "print(\"The accuracy of the model is :\", accuracy_sgd)"
      ]
    },
    {
      "cell_type": "markdown",
      "metadata": {
        "id": "9rNzvcqCHyqu"
      },
      "source": [
        "## Hyperparameter Tuning"
      ]
    },
    {
      "cell_type": "markdown",
      "metadata": {
        "id": "5VpAAULE92K_"
      },
      "source": [
        "Since the Logistic Regression has the best accuracy score, we can investigate the \n",
        "1. usage of 1 or the 2 n-grams, \n",
        "2. using or not using stop words and \n",
        "3. using the Tfidf\n",
        "\n",
        "Investigating other parameters increases the complexity and the computational time. Hence, only these 3 parameters/issues are investigated"
      ]
    },
    {
      "cell_type": "markdown",
      "metadata": {
        "id": "as7v00FJaBLv"
      },
      "source": [
        "### Multinomial Naive Bayes Hyper parameter tuning"
      ]
    },
    {
      "cell_type": "code",
      "execution_count": 21,
      "metadata": {
        "colab": {
          "base_uri": "https://localhost:8080/"
        },
        "id": "dtXCKfO-ZZsp",
        "outputId": "52f95b63-30f4-4493-fd72-4b57ab3e4c39"
      },
      "outputs": [
        {
          "output_type": "stream",
          "name": "stdout",
          "text": [
            "Fitting 5 folds for each of 8 candidates, totalling 40 fits\n",
            "done in 657.707s\n",
            "Best score: 0.880\n",
            "Best parameters set:\n",
            "\tvect__ngram_range: (1, 2)\n",
            "\tvect__stop_words: None\n",
            "\tvect__strip_accents: None\n"
          ]
        }
      ],
      "source": [
        "# Define a pipeline combining a text feature extractor with a simple classifier\n",
        "pipeline = Pipeline(\n",
        "    [\n",
        "        (\"vect\", CountVectorizer()),\n",
        "        (\"clf\", MultinomialNB())\n",
        "    ]\n",
        ")\n",
        "\n",
        "\n",
        "# Parameters to use for grid search. Uncommenting more parameters will give\n",
        "# better exploring power but will increase processing time in a combinatorial\n",
        "# way\n",
        "parameters = {\n",
        "    \"vect__stop_words\": (None, \"english\"),\n",
        "    \"vect__strip_accents\": (None, \"ascii\"),\n",
        "    \"vect__ngram_range\": ((1, 1), (1, 2))#,  # unigrams or bigrams\n",
        "}\n",
        "\n",
        "# Find the best parameters for both the feature extraction and the\n",
        "# classifier\n",
        "grid_search = GridSearchCV(pipeline, \n",
        "    parameters, \n",
        "    n_jobs=-1, \n",
        "    verbose=1)\n",
        "\n",
        "start_time = time()\n",
        "grid_search.fit(X_train, y_train)\n",
        "print(\"done in %0.3fs\" % (time() - start_time))\n",
        "\n",
        "print(\"Best score: %0.3f\" % grid_search.best_score_)\n",
        "print(\"Best parameters set:\")\n",
        "best_parameters = grid_search.best_estimator_.get_params()\n",
        "for param_name in sorted(parameters.keys()):\n",
        "    print(\"\\t%s: %r\" % (param_name, best_parameters[param_name]))"
      ]
    },
    {
      "cell_type": "markdown",
      "metadata": {
        "id": "_oNCK8Yp-5Xi"
      },
      "source": [
        "The best model performs better with stop words, 2 n-grams and Tfidf achieving an accuracy of 0.88. It is yet to be established, that is the increase in accuracy worth the computational power."
      ]
    },
    {
      "cell_type": "markdown",
      "metadata": {
        "id": "3D8nhVHa9s_c"
      },
      "source": [
        "## Conclusion\n",
        "\n",
        "Judging from the computation power and performance, perhaps we need to look at how neural networks can perform\n"
      ]
    },
    {
      "cell_type": "markdown",
      "metadata": {
        "id": "XU_JYw4GiZoU"
      },
      "source": []
    }
  ],
  "metadata": {
    "colab": {
      "provenance": []
    },
    "kernelspec": {
      "display_name": "Python 3 (ipykernel)",
      "language": "python",
      "name": "python3"
    },
    "language_info": {
      "codemirror_mode": {
        "name": "ipython",
        "version": 3
      },
      "file_extension": ".py",
      "mimetype": "text/x-python",
      "name": "python",
      "nbconvert_exporter": "python",
      "pygments_lexer": "ipython3",
      "version": "3.9.7"
    }
  },
  "nbformat": 4,
  "nbformat_minor": 0
}